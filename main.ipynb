{
 "cells": [
  {
   "cell_type": "code",
   "execution_count": null,
   "id": "3c335350-a7ee-4ecb-b1c4-13fa56c2483d",
   "metadata": {},
   "outputs": [],
   "source": [
    "import cv2\n",
    "import matplotlib.pyplot as plt\n",
    "import numpy as np\n",
    "from util import get_parking_spots_bboxes, empty_or_not"
   ]
  },
  {
   "cell_type": "code",
   "execution_count": null,
   "id": "5336d970-0b78-421b-89be-73d0ef2d73ea",
   "metadata": {},
   "outputs": [],
   "source": [
    "def calc_diff(im1, im2):\n",
    "    return np.abs(np.mean(im1) - np.mean(im2))"
   ]
  },
  {
   "cell_type": "code",
   "execution_count": null,
   "id": "a3f1cc31-c23d-4b0b-8534-b513918edd92",
   "metadata": {},
   "outputs": [],
   "source": [
    "mask = 'mask_1920_1080.png'\n",
    "video_path = 'data/parking_1920_1080_loop.mp4'"
   ]
  },
  {
   "cell_type": "code",
   "execution_count": null,
   "id": "b7ff1f49-63db-48fb-801c-ea5c64a615c2",
   "metadata": {},
   "outputs": [],
   "source": [
    "mask = cv2.imread(mask, 0)\n",
    "cap = cv2.VideoCapture(video_path)\n",
    "connected_components = cv2.connectedComponentsWithStats(mask, 4, cv2.CV_32S)\n",
    "spots = get_parking_spots_bboxes(connected_components)\n",
    "spots_status = [None for j in spots]\n",
    "diffs = [None for j in spots]\n",
    "previous_frame = None\n",
    "frame_nmr = 0\n",
    "ret = True\n",
    "step = 30"
   ]
  },
  {
   "cell_type": "code",
   "execution_count": null,
   "id": "c520329f-6af5-4c40-ad35-d0e63b9a6852",
   "metadata": {
    "scrolled": true
   },
   "outputs": [],
   "source": [
    "while ret:\n",
    "    ret, frame = cap.read()\n",
    "\n",
    "    if frame_nmr % step == 0 and previous_frame is not None:\n",
    "        for spot_indx, spot in enumerate(spots):\n",
    "            x1, y1, w, h = spot\n",
    "\n",
    "            spot_crop = frame[y1:y1 + h, x1:x1 + w, :]\n",
    "\n",
    "            diffs[spot_indx] = calc_diff(spot_crop, previous_frame[y1:y1 + h, x1:x1 + w, :])\n",
    "\n",
    "        print([diffs[j] for j in np.argsort(diffs)][::-1])\n",
    "\n",
    "    if frame_nmr % step == 0:\n",
    "        if previous_frame is None:\n",
    "            arr_ = range(len(spots))\n",
    "        else:\n",
    "            arr_ = [j for j in np.argsort(diffs) if diffs[j] / np.amax(diffs) > 0.4]\n",
    "        for spot_indx in arr_:\n",
    "            spot = spots[spot_indx]\n",
    "            x1, y1, w, h = spot\n",
    "\n",
    "            spot_crop = frame[y1:y1 + h, x1:x1 + w, :]\n",
    "\n",
    "            spot_status = empty_or_not(spot_crop)\n",
    "\n",
    "            spots_status[spot_indx] = spot_status\n",
    "\n",
    "    if frame_nmr % step == 0:\n",
    "        previous_frame = frame.copy()\n",
    "\n",
    "    for spot_indx, spot in enumerate(spots):\n",
    "        spot_status = spots_status[spot_indx]\n",
    "        x1, y1, w, h = spots[spot_indx]\n",
    "\n",
    "        if spot_status:\n",
    "            frame = cv2.rectangle(frame, (x1, y1), (x1 + w, y1 + h), (0, 255, 0), 2)\n",
    "        else:\n",
    "            frame = cv2.rectangle(frame, (x1, y1), (x1 + w, y1 + h), (0, 0, 255), 2)\n",
    "\n",
    "    cv2.rectangle(frame, (80, 20), (550, 80), (0, 0, 0), -1)\n",
    "    cv2.putText(frame, 'Available spots: {} / {}'.format(str(sum(spots_status)), str(len(spots_status))), (100, 60),\n",
    "                cv2.FONT_HERSHEY_SIMPLEX, 1, (255, 255, 255), 2)\n",
    "\n",
    "    cv2.namedWindow('frame', cv2.WINDOW_NORMAL)\n",
    "    cv2.imshow('frame', frame)\n",
    "    if cv2.waitKey(25) & 0xFF == ord('q'):\n",
    "        break\n",
    "\n",
    "    frame_nmr += 1\n",
    "\n",
    "cap.release()\n",
    "cv2.destroyAllWindows()"
   ]
  }
 ],
 "metadata": {
  "kernelspec": {
   "display_name": "Python 3 (ipykernel)",
   "language": "python",
   "name": "python3"
  },
  "language_info": {
   "codemirror_mode": {
    "name": "ipython",
    "version": 3
   },
   "file_extension": ".py",
   "mimetype": "text/x-python",
   "name": "python",
   "nbconvert_exporter": "python",
   "pygments_lexer": "ipython3",
   "version": "3.9.21"
  }
 },
 "nbformat": 4,
 "nbformat_minor": 5
}
